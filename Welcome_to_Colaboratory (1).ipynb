{
  "cells": [
    {
      "cell_type": "code",
      "source": [
        "import numpy as np\n",
        "import matplotlib.pyplot as plt\n",
        "from scipy.stats import binom\n",
        "\n",
        "\n",
        "n = 10  # Number of trials\n",
        "p = 0.5  # Probability of success in single trial\n",
        "\n",
        "# Generate possible outcomes (0 to n successes)\n",
        "x = np.arange(0, n + 1)\n",
        "\n",
        "# Calculate the probability mass function (PMF) values\n",
        "pmf_values = binom.pmf(x, n, p)\n",
        "\n",
        "# Plot the PMF\n",
        "plt.figure(figsize=(8, 5))\n",
        "plt.bar(x, pmf_values, color='skyblue', edgecolor='black')\n",
        "plt.title('Binomial Distribution (n=10, p=0.5)', fontsize=14)\n",
        "plt.xlabel('Number of Successes', fontsize=12)\n",
        "plt.ylabel('Probability', fontsize=12)\n",
        "plt.xticks(x, fontsize=10)\n",
        "plt.yticks(fontsize=10)\n",
        "plt.grid(axis='y', linestyle='--', alpha=0.7)\n",
        "plt.show()\n",
        "\n",
        "# Print PMF values for reference\n",
        "for i, prob in zip(x, pmf_values):\n",
        "    print(f\"P(X = {i}) = {prob:.4f}\")"
      ],
      "metadata": {
        "id": "4d5nY3Pkv_63"
      },
      "execution_count": null,
      "outputs": []
    }
  ],
  "metadata": {
    "colab": {
      "name": "Welcome to Colaboratory",
      "toc_visible": true,
      "provenance": []
    },
    "kernelspec": {
      "display_name": "Python 3",
      "name": "python3"
    }
  },
  "nbformat": 4,
  "nbformat_minor": 0
}